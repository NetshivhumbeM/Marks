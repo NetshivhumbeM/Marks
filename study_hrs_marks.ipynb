{
 "cells": [
  {
   "cell_type": "code",
   "execution_count": 48,
   "metadata": {},
   "outputs": [
    {
     "data": {
      "text/html": [
       "<div>\n",
       "<style scoped>\n",
       "    .dataframe tbody tr th:only-of-type {\n",
       "        vertical-align: middle;\n",
       "    }\n",
       "\n",
       "    .dataframe tbody tr th {\n",
       "        vertical-align: top;\n",
       "    }\n",
       "\n",
       "    .dataframe thead th {\n",
       "        text-align: right;\n",
       "    }\n",
       "</style>\n",
       "<table border=\"1\" class=\"dataframe\">\n",
       "  <thead>\n",
       "    <tr style=\"text-align: right;\">\n",
       "      <th></th>\n",
       "      <th>Hours</th>\n",
       "      <th>Scores</th>\n",
       "    </tr>\n",
       "  </thead>\n",
       "  <tbody>\n",
       "    <tr>\n",
       "      <th>0</th>\n",
       "      <td>2.5</td>\n",
       "      <td>21</td>\n",
       "    </tr>\n",
       "    <tr>\n",
       "      <th>1</th>\n",
       "      <td>5.1</td>\n",
       "      <td>47</td>\n",
       "    </tr>\n",
       "    <tr>\n",
       "      <th>2</th>\n",
       "      <td>3.2</td>\n",
       "      <td>27</td>\n",
       "    </tr>\n",
       "    <tr>\n",
       "      <th>3</th>\n",
       "      <td>8.5</td>\n",
       "      <td>75</td>\n",
       "    </tr>\n",
       "    <tr>\n",
       "      <th>4</th>\n",
       "      <td>3.5</td>\n",
       "      <td>30</td>\n",
       "    </tr>\n",
       "    <tr>\n",
       "      <th>...</th>\n",
       "      <td>...</td>\n",
       "      <td>...</td>\n",
       "    </tr>\n",
       "    <tr>\n",
       "      <th>91</th>\n",
       "      <td>5.8</td>\n",
       "      <td>60</td>\n",
       "    </tr>\n",
       "    <tr>\n",
       "      <th>92</th>\n",
       "      <td>4.4</td>\n",
       "      <td>44</td>\n",
       "    </tr>\n",
       "    <tr>\n",
       "      <th>93</th>\n",
       "      <td>6.1</td>\n",
       "      <td>63</td>\n",
       "    </tr>\n",
       "    <tr>\n",
       "      <th>94</th>\n",
       "      <td>3.7</td>\n",
       "      <td>37</td>\n",
       "    </tr>\n",
       "    <tr>\n",
       "      <th>95</th>\n",
       "      <td>8.0</td>\n",
       "      <td>84</td>\n",
       "    </tr>\n",
       "  </tbody>\n",
       "</table>\n",
       "<p>96 rows × 2 columns</p>\n",
       "</div>"
      ],
      "text/plain": [
       "    Hours  Scores\n",
       "0     2.5      21\n",
       "1     5.1      47\n",
       "2     3.2      27\n",
       "3     8.5      75\n",
       "4     3.5      30\n",
       "..    ...     ...\n",
       "91    5.8      60\n",
       "92    4.4      44\n",
       "93    6.1      63\n",
       "94    3.7      37\n",
       "95    8.0      84\n",
       "\n",
       "[96 rows x 2 columns]"
      ]
     },
     "execution_count": 48,
     "metadata": {},
     "output_type": "execute_result"
    }
   ],
   "source": [
    "import pandas as pd\n",
    "import os\n",
    "import scipy.stats as stats\n",
    "pwd = os.getcwd()\n",
    "dataset = pd.read_csv(pwd+\"/score_updated.csv\")\n",
    "dataset"
   ]
  },
  {
   "cell_type": "code",
   "execution_count": 49,
   "metadata": {},
   "outputs": [
    {
     "data": {
      "text/plain": [
       "Hours     0\n",
       "Scores    0\n",
       "dtype: int64"
      ]
     },
     "execution_count": 49,
     "metadata": {},
     "output_type": "execute_result"
    }
   ],
   "source": [
    "dataset.isnull().sum()"
   ]
  },
  {
   "cell_type": "markdown",
   "metadata": {},
   "source": [
    "1.Null hypothesis:There is no significant difference in the average marks betwwen students who study for more than 6 ours and those who study for lees than 6\n",
    "2.Alternative hypothesis:There is a significant difference in the average marks betwwen students who study for more than 6 ours and those who study for lees than 6\n",
    "3.alpha(Significance level)\n",
    "4.t-statsic and  value\n",
    "5.compare and interpret"
   ]
  },
  {
   "cell_type": "code",
   "execution_count": 50,
   "metadata": {},
   "outputs": [],
   "source": [
    "alpha = float(0.05)"
   ]
  },
  {
   "cell_type": "code",
   "execution_count": 51,
   "metadata": {},
   "outputs": [],
   "source": [
    "less_6 =dataset[dataset[\"Hours\"]<=6]['Scores']\n",
    "greater_6 = dataset[dataset['Hours']>6]['Scores']\n",
    "## I seperated the dataset in to two parts which one consist of study hours less then or equal to 6hrs\n",
    "##and the other one with study hours being greater than 6 hrs"
   ]
  },
  {
   "cell_type": "code",
   "execution_count": 52,
   "metadata": {},
   "outputs": [
    {
     "name": "stdout",
     "output_type": "stream",
     "text": [
      "T test results\n",
      "The t-statistic is: -15.690257742884747\n",
      "The p-value is: 5.360218764843392e-28\n"
     ]
    }
   ],
   "source": [
    "##Calculate t statistic and p value\n",
    "from scipy.stats import ttest_ind\n",
    "t_statsic,p_valuee = ttest_ind(less_6,greater_6)\n",
    "print(\"T test results\")\n",
    "print(\"The t-statistic is:\",t_statsic)\n",
    "print(\"The p-value is:\",p_valuee)"
   ]
  },
  {
   "cell_type": "code",
   "execution_count": 53,
   "metadata": {},
   "outputs": [
    {
     "name": "stdout",
     "output_type": "stream",
     "text": [
      "Assuming that the two groups have equal variances\n",
      "We reject the null hypothesis and conclude that there is a signincant difference in avareage marks between the two groups\n"
     ]
    }
   ],
   "source": [
    "##Comparism and interpretation\n",
    "print(\"Assuming that the two groups have equal variances\")\n",
    "if p_valuee< alpha:\n",
    "    print(\"We reject the null hypothesis and conclude that there is a signincant difference in avareage marks between the two groups\")\n",
    "else:\n",
    "    print(\"We fail to reject the null hyphothesis and conclude that there is no enough information to show that there is a significant difference\")"
   ]
  },
  {
   "cell_type": "markdown",
   "metadata": {},
   "source": [
    "We repeat the same test but without assuming that the two groups have equal variances"
   ]
  },
  {
   "cell_type": "markdown",
   "metadata": {},
   "source": [
    "F test procedure\n",
    "1.Null hypothesis: Variance1 and Variance2 are equal\n",
    "2.Alternative hypothesis Variance1 and Variance2 are not equal\n",
    "3.f stat and p value\n",
    "4. alpha\n",
    "5.Compare and interpret\n"
   ]
  },
  {
   "cell_type": "code",
   "execution_count": 54,
   "metadata": {},
   "outputs": [
    {
     "name": "stdout",
     "output_type": "stream",
     "text": [
      "F test results\n",
      "The F-statistic is: 7.1911918683309555\n",
      "The p-value is: 0.008654078347599115\n"
     ]
    }
   ],
   "source": [
    "from scipy.stats import levene\n",
    "f_stat, p_value_f = levene(less_6,greater_6)\n",
    "print(\"F test results\")\n",
    "print(\"The F-statistic is:\",f_stat)\n",
    "print(\"The p-value is:\",p_value_f)"
   ]
  },
  {
   "cell_type": "code",
   "execution_count": 55,
   "metadata": {},
   "outputs": [
    {
     "name": "stdout",
     "output_type": "stream",
     "text": [
      "We reject the null hypothesis and conclude that the variances are not equal\n",
      "T test results\n",
      "The t-statistic is: -16.72532597275376\n",
      "The p-value is: 6.545422571902648e-30\n",
      "We reject the null hypothesis and conclude that there is a signincant difference in avareage marks between the two groups\n"
     ]
    }
   ],
   "source": [
    "if p_value_f< alpha:\n",
    "    print(\"We reject the null hypothesis and conclude that the variances are not equal\")\n",
    "    t_statsic,p_valuee = ttest_ind(less_6,greater_6,equal_var=False)\n",
    "    print(\"T test results\")\n",
    "    print(\"The t-statistic is:\",t_statsic)\n",
    "    print(\"The p-value is:\",p_valuee)\n",
    "    if p_valuee< alpha:\n",
    "       print(\"We reject the null hypothesis and conclude that there is a signincant difference in avareage marks between the two groups\")\n",
    "    else:\n",
    "       print(\"We fail to reject the null hyphothesis and conclude that there is no enough information to show that there is a significant difference\")\n",
    "\n",
    "else:\n",
    "    print(\"we fail to reject the null hypothesis and conclude that the variances are equal\")\n",
    "    t_statsic,p_valuee = ttest_ind(less_6,greater_6)\n",
    "    print(\"T test results\")\n",
    "    print(\"The t-statistic is:\",t_statsic)\n",
    "    print(\"The p-value is:\",p_valuee)\n",
    "    if p_valuee< alpha:\n",
    "        print(\"We reject the null hypothesis and conclude that there is a signincant difference in avareage marks between the two groups\")\n",
    "    else:\n",
    "        print(\"We fail to reject the null hyphothesis and conclude that there is no enough information to show that there is a significant difference\")"
   ]
  },
  {
   "cell_type": "markdown",
   "metadata": {},
   "source": [
    "We Want to check if the marks are nomrlly distributed\n",
    "since this is not a large data set i used a shapiro wilks test to test whether the data comes from a normal distribution\n",
    "\n",
    "1.Null hypothesis:Data is normally distributed\n",
    "2.alt hypo:Data is not Normally distributed"
   ]
  },
  {
   "cell_type": "code",
   "execution_count": 56,
   "metadata": {},
   "outputs": [
    {
     "name": "stdout",
     "output_type": "stream",
     "text": [
      "The Shapiro wilks test results\n",
      "The Shapiro statstics is: 0.9519261116296355\n",
      "The shapiro p value is: 0.0014601240979284173\n",
      "We reject the null hypothesis.This means that the data significantly deviates from normality and therefor the data is not normally distributed\n"
     ]
    }
   ],
   "source": [
    "Scores =dataset['Scores']\n",
    "from scipy.stats import shapiro\n",
    "shapiro_statstic, shapiro_p_value =shapiro(Scores)\n",
    "print(\"The Shapiro wilks test results\")\n",
    "print(\"The Shapiro statstics is:\",shapiro_statstic)\n",
    "print(\"The shapiro p value is:\",shapiro_p_value)\n",
    "\n",
    "if shapiro_p_value<alpha:\n",
    "    print(\"We reject the null hypothesis.This means that the data significantly deviates from normality and therefor the data is not normally distributed\")\n",
    "else:\n",
    "    print(\"We fail to reject the null hypothesis.This mean that the is no enough information to show evidence against the assumption of normality and therefor we conclude that the data is normally distibuted\")\n"
   ]
  },
  {
   "cell_type": "code",
   "execution_count": 57,
   "metadata": {},
   "outputs": [
    {
     "data": {
      "image/png": "[encoded data removed]",
      "text/plain": [
       "<Figure size 640x480 with 1 Axes>"
      ]
     },
     "metadata": {},
     "output_type": "display_data"
    }
   ],
   "source": [
    "import matplotlib.pyplot as plt\n",
    "plt.hist(Scores,bins=5, color='blue')\n",
    "plt.title('Histogram of the scores')\n",
    "plt.xlabel('Value')\n",
    "plt.ylabel('Frequency')\n",
    "plt.show()\n"
   ]
  }
 ],
 "metadata": {
  "kernelspec": {
   "display_name": "base",
   "language": "python",
   "name": "python3"
  },
  "language_info": {
   "codemirror_mode": {
    "name": "ipython",
    "version": 3
   },
   "file_extension": ".py",
   "mimetype": "text/x-python",
   "name": "python",
   "nbconvert_exporter": "python",
   "pygments_lexer": "ipython3",
   "version": "3.9.16"
  }
 },
 "nbformat": 4,
 "nbformat_minor": 2
}
